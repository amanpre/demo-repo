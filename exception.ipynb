{
  "nbformat": 4,
  "nbformat_minor": 0,
  "metadata": {
    "colab": {
      "provenance": [],
      "authorship_tag": "ABX9TyNbVCJqsRoUcU8jQ8cvJmwQ",
      "include_colab_link": true
    },
    "kernelspec": {
      "name": "python3",
      "display_name": "Python 3"
    },
    "language_info": {
      "name": "python"
    }
  },
  "cells": [
    {
      "cell_type": "markdown",
      "metadata": {
        "id": "view-in-github",
        "colab_type": "text"
      },
      "source": [
        "<a href=\"https://colab.research.google.com/github/amanpre/demo-repo/blob/main/exception.ipynb\" target=\"_parent\"><img src=\"https://colab.research.google.com/assets/colab-badge.svg\" alt=\"Open In Colab\"/></a>"
      ]
    },
    {
      "cell_type": "code",
      "execution_count": 12,
      "metadata": {
        "colab": {
          "base_uri": "https://localhost:8080/"
        },
        "id": "V_ow4qLgdRA5",
        "outputId": "075e9272-c783-4077-ffd2-e0d2e63e1d40"
      },
      "outputs": [
        {
          "output_type": "stream",
          "name": "stdout",
          "text": [
            "Enter an integer: l\n",
            "Error: Please enter a valid integer.\n",
            "Execution of the try-except block is complete.\n"
          ]
        }
      ],
      "source": [
        "def get_integer():\n",
        "    try:\n",
        "        number = int(input(\"Enter an integer: \"))\n",
        "        print(\"Input is:\", number)\n",
        "    except ValueError:\n",
        "        print(\"Error: Please enter a valid integer.\")\n",
        "    finally:\n",
        "        print(\"Execution of the try-except block is complete.\")\n",
        "\n",
        "get_integer()\n"
      ]
    }
  ]
}