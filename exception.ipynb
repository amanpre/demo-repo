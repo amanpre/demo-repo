{
  "nbformat": 4,
  "nbformat_minor": 0,
  "metadata": {
    "colab": {
      "provenance": [],
      "authorship_tag": "ABX9TyP+fXMM9TSJL7IxFFXAcKtL",
      "include_colab_link": true
    },
    "kernelspec": {
      "name": "python3",
      "display_name": "Python 3"
    },
    "language_info": {
      "name": "python"
    }
  },
  "cells": [
    {
      "cell_type": "markdown",
      "metadata": {
        "id": "view-in-github",
        "colab_type": "text"
      },
      "source": [
        "<a href=\"https://colab.research.google.com/github/amanpre/demo-repo/blob/main/exception.ipynb\" target=\"_parent\"><img src=\"https://colab.research.google.com/assets/colab-badge.svg\" alt=\"Open In Colab\"/></a>"
      ]
    },
    {
      "cell_type": "code",
      "execution_count": 12,
      "metadata": {
        "colab": {
          "base_uri": "https://localhost:8080/"
        },
        "id": "V_ow4qLgdRA5",
        "outputId": "075e9272-c783-4077-ffd2-e0d2e63e1d40"
      },
      "outputs": [
        {
          "output_type": "stream",
          "name": "stdout",
          "text": [
            "Enter an integer: l\n",
            "Error: Please enter a valid integer.\n",
            "Execution of the try-except block is complete.\n"
          ]
        }
      ],
      "source": [
        "def get_integer():\n",
        "    try:\n",
        "        number = int(input(\"Enter an integer: \"))\n",
        "        print(\"Input is:\", number)\n",
        "    except ValueError:\n",
        "        print(\"Error: Please enter a valid integer.\")\n",
        "    finally:\n",
        "        print(\"Execution of the try-except block is complete.\")\n",
        "\n",
        "get_integer()\n"
      ]
    },
    {
      "cell_type": "code",
      "source": [
        "\n"
      ],
      "metadata": {
        "id": "re6g5a6Xr6-m"
      },
      "execution_count": null,
      "outputs": []
    },
    {
      "cell_type": "code",
      "source": [
        "def get_positive_integers():\n",
        "    numbers = []\n",
        "\n",
        "    while True:\n",
        "        try:\n",
        "            input_value = int(input(\"Enter a positive integer: \"))\n",
        "            number = input_value\n",
        "\n",
        "            if number < 0:\n",
        "                print(\"Negative number entered. Stop the program.\")\n",
        "                break\n",
        "\n",
        "            if number == 0:\n",
        "                print(\"Zero entered. Stop the program.\")\n",
        "                break\n",
        "\n",
        "            numbers.append(number)\n",
        "\n",
        "        except ValueError as e:\n",
        "            print(f\"Error: {e} Please enter a valid positive integer.\")\n",
        "\n",
        "    # Display all entered numbers and their squares\n",
        "    print(\"Numbers entered and their squares:\")\n",
        "    for number in numbers:\n",
        "        print(f\"{number}={number**2}\")\n",
        "\n",
        "get_positive_integers()\n"
      ],
      "metadata": {
        "colab": {
          "base_uri": "https://localhost:8080/"
        },
        "id": "veimnHQuiDP4",
        "outputId": "a4c5a657-1f43-4972-e10a-ade57d3848da"
      },
      "execution_count": 41,
      "outputs": [
        {
          "output_type": "stream",
          "name": "stdout",
          "text": [
            "Enter a positive integer: 1\n",
            "Enter a positive integer: 2\n",
            "Enter a positive integer: 3\n",
            "Enter a positive integer: d\n",
            "Error: invalid literal for int() with base 10: 'd' Please enter a valid positive integer.\n",
            "Enter a positive integer: 0\n",
            "Zero entered. Stop the program.\n",
            "Numbers entered and their squares:\n",
            "1=1\n",
            "2=4\n",
            "3=9\n"
          ]
        }
      ]
    }
  ]
}