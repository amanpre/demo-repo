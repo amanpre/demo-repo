{
  "nbformat": 4,
  "nbformat_minor": 0,
  "metadata": {
    "colab": {
      "provenance": [],
      "authorship_tag": "ABX9TyNEr7tBbKhdodjh4XKQRNs4",
      "include_colab_link": true
    },
    "kernelspec": {
      "name": "python3",
      "display_name": "Python 3"
    },
    "language_info": {
      "name": "python"
    }
  },
  "cells": [
    {
      "cell_type": "markdown",
      "metadata": {
        "id": "view-in-github",
        "colab_type": "text"
      },
      "source": [
        "<a href=\"https://colab.research.google.com/github/amanpre/demo-repo/blob/main/Exception_handling.ipynb\" target=\"_parent\"><img src=\"https://colab.research.google.com/assets/colab-badge.svg\" alt=\"Open In Colab\"/></a>"
      ]
    },
    {
      "cell_type": "code",
      "execution_count": 2,
      "metadata": {
        "colab": {
          "base_uri": "https://localhost:8080/"
        },
        "id": "zkBr0fz3sy9k",
        "outputId": "9787c299-1fc8-40e5-ba7c-b04ccab667f8"
      },
      "outputs": [
        {
          "output_type": "stream",
          "name": "stdout",
          "text": [
            "Enter a positive integer: 1\n",
            "Enter a positive integer: 2\n",
            "Enter a positive integer: 3\n",
            "Enter a positive integer: q\n",
            "Error: invalid literal for int() with base 10: 'q' Please enter a valid positive integer.\n",
            "Enter a positive integer: -2\n",
            "Negative number entered. Stop the program.\n",
            "Numbers entered and their squares:\n",
            "1=1\n",
            "2=4\n",
            "3=9\n"
          ]
        }
      ],
      "source": [
        "def get_positive_integers():\n",
        "    numbers = []\n",
        "\n",
        "    while True:\n",
        "        try:\n",
        "            input_value = int(input(\"Enter a positive integer: \"))\n",
        "            number = input_value\n",
        "\n",
        "            if number < 0:\n",
        "                print(\"Negative number entered. Stop the program.\")\n",
        "                break\n",
        "\n",
        "            if number == 0:\n",
        "                print(\"Zero entered. Stop the program.\")\n",
        "                break\n",
        "\n",
        "            numbers.append(number)\n",
        "\n",
        "        except ValueError as e:\n",
        "            print(f\"Error: {e} Please enter a valid positive integer.\")\n",
        "\n",
        "    # Display all entered numbers and their squares\n",
        "    print(\"Numbers entered and their squares:\")\n",
        "    for number in numbers:\n",
        "        print(f\"{number}={number**2}\")\n",
        "\n",
        "get_positive_integers()\n"
      ]
    }
  ]
}