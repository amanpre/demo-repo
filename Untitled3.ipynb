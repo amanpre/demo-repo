{
  "nbformat": 4,
  "nbformat_minor": 0,
  "metadata": {
    "colab": {
      "provenance": [],
      "authorship_tag": "ABX9TyPAnNppvF3KP5/GtaKZxsii",
      "include_colab_link": true
    },
    "kernelspec": {
      "name": "python3",
      "display_name": "Python 3"
    },
    "language_info": {
      "name": "python"
    }
  },
  "cells": [
    {
      "cell_type": "markdown",
      "metadata": {
        "id": "view-in-github",
        "colab_type": "text"
      },
      "source": [
        "<a href=\"https://colab.research.google.com/github/amanpre/demo-repo/blob/main/Untitled3.ipynb\" target=\"_parent\"><img src=\"https://colab.research.google.com/assets/colab-badge.svg\" alt=\"Open In Colab\"/></a>"
      ]
    },
    {
      "cell_type": "code",
      "execution_count": 5,
      "metadata": {
        "id": "fYxpDBcJXl6z"
      },
      "outputs": [],
      "source": [
        "def frequency_count(numbers):\n",
        "  frequency ={}\n",
        "  for number in numbers:\n",
        "    if number in frequency:\n",
        "      frequency[number] += 1\n",
        "    else:\n",
        "      frequency[number] = 1\n",
        "  return frequency\n",
        "\n"
      ]
    },
    {
      "cell_type": "code",
      "source": [
        "numbers = [10,40,50,14,40,10]\n",
        "result = frequency_count(numbers)\n",
        "print(result)\n"
      ],
      "metadata": {
        "colab": {
          "base_uri": "https://localhost:8080/"
        },
        "id": "H6kVkINTY0KG",
        "outputId": "3fc3d290-08a6-4fbc-f606-dcecc96cc525"
      },
      "execution_count": 6,
      "outputs": [
        {
          "output_type": "stream",
          "name": "stdout",
          "text": [
            "{10: 2, 40: 2, 50: 1, 14: 1}\n"
          ]
        }
      ]
    }
  ]
}