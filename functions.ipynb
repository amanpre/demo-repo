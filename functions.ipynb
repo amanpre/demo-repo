{
  "nbformat": 4,
  "nbformat_minor": 0,
  "metadata": {
    "colab": {
      "provenance": [],
      "authorship_tag": "ABX9TyOq+Kq0l/vYav3Gkduwx3eO",
      "include_colab_link": true
    },
    "kernelspec": {
      "name": "python3",
      "display_name": "Python 3"
    },
    "language_info": {
      "name": "python"
    }
  },
  "cells": [
    {
      "cell_type": "markdown",
      "metadata": {
        "id": "view-in-github",
        "colab_type": "text"
      },
      "source": [
        "<a href=\"https://colab.research.google.com/github/amanpre/demo-repo/blob/main/functions.ipynb\" target=\"_parent\"><img src=\"https://colab.research.google.com/assets/colab-badge.svg\" alt=\"Open In Colab\"/></a>"
      ]
    },
    {
      "cell_type": "markdown",
      "source": [
        "1. Come up with a function that divides the first input by the second input:"
      ],
      "metadata": {
        "id": "jsC_EwHF71Ko"
      }
    },
    {
      "cell_type": "code",
      "source": [
        "def div(a,b):\n",
        "   return(a/b)\n",
        "\n"
      ],
      "metadata": {
        "id": "NzKp9Kb579k-"
      },
      "execution_count": 3,
      "outputs": []
    },
    {
      "cell_type": "code",
      "source": [
        "div(20,2)"
      ],
      "metadata": {
        "colab": {
          "base_uri": "https://localhost:8080/"
        },
        "id": "u3OBiZUX2Mzh",
        "outputId": "a73bb9de-3df9-4e33-e66d-2f6ca8c70e3d"
      },
      "execution_count": 4,
      "outputs": [
        {
          "output_type": "execute_result",
          "data": {
            "text/plain": [
              "10.0"
            ]
          },
          "metadata": {},
          "execution_count": 4
        }
      ]
    },
    {
      "cell_type": "markdown",
      "source": [
        "2. # Use the con function for the following question\n",
        "\n",
        "def con(a, b):\n",
        "    return(a + b)\n",
        "\n",
        "    Can the con function we defined before be used to add two integers or strings?"
      ],
      "metadata": {
        "id": "oIZ-sNls-zhB"
      }
    },
    {
      "cell_type": "markdown",
      "source": [
        "yes, we can use con to add integer.\n",
        "for example:\n",
        "con (1,2)"
      ],
      "metadata": {
        "id": "q8AflBH2-9Bm"
      }
    },
    {
      "cell_type": "code",
      "source": [
        "def con(a,b):\n",
        "  return(a+b)\n",
        ""
      ],
      "metadata": {
        "id": "XuzOzxea_nsJ"
      },
      "execution_count": 1,
      "outputs": []
    },
    {
      "cell_type": "code",
      "source": [
        "con(1,2)"
      ],
      "metadata": {
        "colab": {
          "base_uri": "https://localhost:8080/"
        },
        "id": "1kdTzdYJ2hzx",
        "outputId": "30beaa1f-0de8-46c5-9671-1cbdf9b5b140"
      },
      "execution_count": 9,
      "outputs": [
        {
          "output_type": "execute_result",
          "data": {
            "text/plain": [
              "3"
            ]
          },
          "metadata": {},
          "execution_count": 9
        }
      ]
    },
    {
      "cell_type": "markdown",
      "source": [
        "3.  Can the con function we defined before be used to add two integers or strings?"
      ],
      "metadata": {
        "id": "yK_AvU9n_SbA"
      }
    },
    {
      "cell_type": "markdown",
      "source": [
        "yes"
      ],
      "metadata": {
        "id": "nMzLBCadAAHE"
      }
    },
    {
      "cell_type": "code",
      "source": [
        "x=[1,2,3,4,5]\n",
        "y=['a,b,c']\n",
        "\n",
        "print(x,y)\n"
      ],
      "metadata": {
        "id": "_ncOP3YvATXR",
        "colab": {
          "base_uri": "https://localhost:8080/"
        },
        "outputId": "b1bb93c8-1e90-4888-8a37-ce0ce65337d5"
      },
      "execution_count": 2,
      "outputs": [
        {
          "output_type": "stream",
          "name": "stdout",
          "text": [
            "[1, 2, 3, 4, 5] ['a,b,c']\n"
          ]
        }
      ]
    },
    {
      "cell_type": "code",
      "source": [
        "con(x,y)"
      ],
      "metadata": {
        "colab": {
          "base_uri": "https://localhost:8080/"
        },
        "id": "8qYJ5ExM_Id5",
        "outputId": "26b10580-d55e-4a15-b8a8-19dcd2c01a68"
      },
      "execution_count": 3,
      "outputs": [
        {
          "output_type": "execute_result",
          "data": {
            "text/plain": [
              "[1, 2, 3, 4, 5, 'a,b,c']"
            ]
          },
          "metadata": {},
          "execution_count": 3
        }
      ]
    },
    {
      "cell_type": "markdown",
      "source": [
        "Write a function code to find total count of word little in the given string: \"Mary had a little lamb Little lamb, little lamb Mary had a little lamb.Its fleece was white as snow And everywhere that Mary went Mary went, Mary went Everywhere that Mary went The lamb was sure to go\"**"
      ],
      "metadata": {
        "id": "87PcTBuAAZjl"
      }
    },
    {
      "cell_type": "code",
      "source": [
        "def freq(string):\n",
        "  words = []\n",
        "  words = string.split()\n",
        "  Dict = {}\n",
        "  for key in words:\n",
        "      Dict[key] = words.count(key)\n",
        "  print(\"frequency\", Dict)\n",
        "\n",
        "freq(\"Mary had a little lamb Little lamb, little lamb Mary had a little lamb.Its fleece was white as snow And everywhere that Mary went Mary went, Mary went Everywhere that Mary went The lamb was sure to go little\")"
      ],
      "metadata": {
        "id": "dXGvBY-5Acso",
        "colab": {
          "base_uri": "https://localhost:8080/"
        },
        "outputId": "6fe535d8-2baa-4e61-aa97-b5784457e01f"
      },
      "execution_count": 13,
      "outputs": [
        {
          "output_type": "stream",
          "name": "stdout",
          "text": [
            "frequency {'Mary': 6, 'had': 2, 'a': 2, 'little': 4, 'lamb': 3, 'Little': 1, 'lamb,': 1, 'lamb.Its': 1, 'fleece': 1, 'was': 2, 'white': 1, 'as': 1, 'snow': 1, 'And': 1, 'everywhere': 1, 'that': 2, 'went': 3, 'went,': 1, 'Everywhere': 1, 'The': 1, 'sure': 1, 'to': 1, 'go': 1}\n"
          ]
        }
      ]
    }
  ]
}