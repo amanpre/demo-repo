{
  "nbformat": 4,
  "nbformat_minor": 0,
  "metadata": {
    "colab": {
      "provenance": [],
      "authorship_tag": "ABX9TyOssEdWp3Mc7D6cmYYFsAJx",
      "include_colab_link": true
    },
    "kernelspec": {
      "name": "python3",
      "display_name": "Python 3"
    },
    "language_info": {
      "name": "python"
    }
  },
  "cells": [
    {
      "cell_type": "markdown",
      "metadata": {
        "id": "view-in-github",
        "colab_type": "text"
      },
      "source": [
        "<a href=\"https://colab.research.google.com/github/amanpre/demo-repo/blob/main/functions_lab.ipynb\" target=\"_parent\"><img src=\"https://colab.research.google.com/assets/colab-badge.svg\" alt=\"Open In Colab\"/></a>"
      ]
    },
    {
      "cell_type": "markdown",
      "source": [
        "1. Come up with a function that divides the first input by the second input:"
      ],
      "metadata": {
        "id": "jsC_EwHF71Ko"
      }
    },
    {
      "cell_type": "code",
      "source": [
        "def div(a,b):\n",
        "   return(a/b)"
      ],
      "metadata": {
        "id": "NzKp9Kb579k-"
      },
      "execution_count": 7,
      "outputs": []
    },
    {
      "cell_type": "markdown",
      "source": [
        "2. # Use the con function for the following question\n",
        "\n",
        "def con(a, b):\n",
        "    return(a + b)\n",
        "\n",
        "    Can the con function we defined before be used to add two integers or strings?"
      ],
      "metadata": {
        "id": "oIZ-sNls-zhB"
      }
    },
    {
      "cell_type": "markdown",
      "source": [
        "yes, we can use con to add integer.\n",
        "for example:\n",
        "con (1,2)"
      ],
      "metadata": {
        "id": "q8AflBH2-9Bm"
      }
    },
    {
      "cell_type": "code",
      "source": [
        "def con(a,b):\n",
        "  return(a/b)\n",
        "  con(1,2)"
      ],
      "metadata": {
        "id": "XuzOzxea_nsJ"
      },
      "execution_count": 8,
      "outputs": []
    },
    {
      "cell_type": "markdown",
      "source": [
        "3.  Can the con function we defined before be used to add two integers or strings?"
      ],
      "metadata": {
        "id": "yK_AvU9n_SbA"
      }
    },
    {
      "cell_type": "markdown",
      "source": [
        "yes, con(['a', 1], ['b', 2])"
      ],
      "metadata": {
        "id": "nMzLBCadAAHE"
      }
    },
    {
      "cell_type": "code",
      "source": [
        "def con(a,b):\n",
        "  return(a/b)\n",
        "  con(['a', 1], ['b', 2])"
      ],
      "metadata": {
        "id": "_ncOP3YvATXR"
      },
      "execution_count": 9,
      "outputs": []
    },
    {
      "cell_type": "markdown",
      "source": [
        "Write a function code to find total count of word little in the given string: \"Mary had a little lamb Little lamb, little lamb Mary had a little lamb.Its fleece was white as snow And everywhere that Mary went Mary went, Mary went Everywhere that Mary went The lamb was sure to go\"**"
      ],
      "metadata": {
        "id": "87PcTBuAAZjl"
      }
    },
    {
      "cell_type": "code",
      "source": [
        "def freq(string):\n",
        "  words = []\n",
        "  words = string.split()\n",
        "  Dict = {}\n",
        "  for key in words:\n",
        "      Dict[key] = words.count(key)\n",
        "  print(\"frequency\", Dict)\n",
        "\n",
        "  freq(\"Mary had a little lamb Little lamb, little lamb Mary had a little lamb.Its fleece was white as snow And everywhere that Mary went Mary went, Mary went \\\n",
        "Everywhere that Mary went The lamb was sure to go\",\"little\")"
      ],
      "metadata": {
        "id": "dXGvBY-5Acso"
      },
      "execution_count": 20,
      "outputs": []
    }
  ]
}