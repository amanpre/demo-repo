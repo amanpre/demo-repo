{
  "nbformat": 4,
  "nbformat_minor": 0,
  "metadata": {
    "colab": {
      "provenance": [],
      "authorship_tag": "ABX9TyMDG/P0LJVTz/E54Wz1X6Xp",
      "include_colab_link": true
    },
    "kernelspec": {
      "name": "python3",
      "display_name": "Python 3"
    },
    "language_info": {
      "name": "python"
    }
  },
  "cells": [
    {
      "cell_type": "markdown",
      "metadata": {
        "id": "view-in-github",
        "colab_type": "text"
      },
      "source": [
        "<a href=\"https://colab.research.google.com/github/amanpre/demo-repo/blob/main/loops.ipynb\" target=\"_parent\"><img src=\"https://colab.research.google.com/assets/colab-badge.svg\" alt=\"Open In Colab\"/></a>"
      ]
    },
    {
      "cell_type": "markdown",
      "source": [
        "Find the value of i that produces a True:"
      ],
      "metadata": {
        "id": "GtT_OVs35JbF"
      }
    },
    {
      "cell_type": "code",
      "source": [
        "i= 1\n",
        "i!=0"
      ],
      "metadata": {
        "colab": {
          "base_uri": "https://localhost:8080/"
        },
        "id": "x_-yLrNv5Kur",
        "outputId": "4dddcc0a-6bf1-4cef-a413-3bd2ea3061e1"
      },
      "execution_count": 1,
      "outputs": [
        {
          "output_type": "execute_result",
          "data": {
            "text/plain": [
              "True"
            ]
          },
          "metadata": {},
          "execution_count": 1
        }
      ]
    },
    {
      "cell_type": "markdown",
      "source": [
        "Find the value of x that prints the statement \"this is a\":"
      ],
      "metadata": {
        "id": "NQGEq2595izj"
      }
    },
    {
      "cell_type": "code",
      "source": [
        "x= 'a'\n",
        "if x =='a':\n",
        "    print(\"this is a\")\n",
        "else:\n",
        "    print(\"this is  not a\")"
      ],
      "metadata": {
        "colab": {
          "base_uri": "https://localhost:8080/"
        },
        "id": "Iv8A2DRk5jpG",
        "outputId": "6c60bef3-f285-447e-dea7-1599e4dc0392"
      },
      "execution_count": 2,
      "outputs": [
        {
          "output_type": "stream",
          "name": "stdout",
          "text": [
            "this is a\n"
          ]
        }
      ]
    },
    {
      "cell_type": "markdown",
      "source": [
        "Find the value of y that produces a True statement:"
      ],
      "metadata": {
        "id": "GtJYk_6v596O"
      }
    },
    {
      "cell_type": "code",
      "source": [
        "y=2\n",
        "x=1\n",
        "x>0 and y<10"
      ],
      "metadata": {
        "colab": {
          "base_uri": "https://localhost:8080/"
        },
        "id": "dAVovhmC6FqD",
        "outputId": "abd12479-a0db-4125-f916-90c74087b67c"
      },
      "execution_count": 3,
      "outputs": [
        {
          "output_type": "execute_result",
          "data": {
            "text/plain": [
              "True"
            ]
          },
          "metadata": {},
          "execution_count": 3
        }
      ]
    },
    {
      "cell_type": "markdown",
      "source": [
        "1. There are 2 sisters, Annie and Jane, born in 1996 and 1999 respectively. They want to know who was born in a leap year. Write an if-else statement to determine who was born in a leap year."
      ],
      "metadata": {
        "id": "wDCgGK9dAmRX"
      }
    },
    {
      "cell_type": "code",
      "source": [
        "Annie=1996\n",
        "Jane=1999\n",
        "if Annie%4==0:\n",
        "    print(\"Annie was born in a leap year\")\n",
        "elif Jane%4==0:\n",
        "    print(\"Jane was born in a leap year\")\n",
        "else:\n",
        "    print(\"None of them were born in a leap year\")"
      ],
      "metadata": {
        "colab": {
          "base_uri": "https://localhost:8080/"
        },
        "id": "g-iBTZatAqjQ",
        "outputId": "86112d5d-7a8b-492e-fd8b-5f311225cc5e"
      },
      "execution_count": 4,
      "outputs": [
        {
          "output_type": "stream",
          "name": "stdout",
          "text": [
            "Annie was born in a leap year\n"
          ]
        }
      ]
    },
    {
      "cell_type": "markdown",
      "source": [
        "2. In a school canteen, children under the age of 9 are only given milk porridge for breakfast. Children from 10 to 14 are given a sandwich, and children from 15 to 17 are given a burger. The canteen master asks the age of the student and gives them breakfast accordingly. Sam's age is 10. Use if-else statement to determine what the canteen master will offer to him."
      ],
      "metadata": {
        "id": "xg8lMcYEEGjX"
      }
    },
    {
      "cell_type": "code",
      "source": [
        "age = 10\n",
        "if age <=9:\n",
        "    print (\"You will get milk porridge!\")\n",
        "elif age>=10 and age<=14:\n",
        "    print (\"You will get a sandwich!\")\n",
        "elif age>=15 and age<=17:\n",
        "    print(\"You will get a burger!\")"
      ],
      "metadata": {
        "colab": {
          "base_uri": "https://localhost:8080/"
        },
        "id": "UYxbsfm_EWWB",
        "outputId": "11acf15f-220e-4f3e-c8f1-ea923aae4841"
      },
      "execution_count": 6,
      "outputs": [
        {
          "output_type": "stream",
          "name": "stdout",
          "text": [
            "You will get a sandwich!\n"
          ]
        }
      ]
    }
  ]
}