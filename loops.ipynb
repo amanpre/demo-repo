{
  "nbformat": 4,
  "nbformat_minor": 0,
  "metadata": {
    "colab": {
      "provenance": [],
      "authorship_tag": "ABX9TyPOxUstfW/FTeF+pzHoSdAT",
      "include_colab_link": true
    },
    "kernelspec": {
      "name": "python3",
      "display_name": "Python 3"
    },
    "language_info": {
      "name": "python"
    }
  },
  "cells": [
    {
      "cell_type": "markdown",
      "metadata": {
        "id": "view-in-github",
        "colab_type": "text"
      },
      "source": [
        "<a href=\"https://colab.research.google.com/github/amanpre/demo-repo/blob/main/loops.ipynb\" target=\"_parent\"><img src=\"https://colab.research.google.com/assets/colab-badge.svg\" alt=\"Open In Colab\"/></a>"
      ]
    },
    {
      "cell_type": "markdown",
      "source": [
        "Find the value of i that produces a True:"
      ],
      "metadata": {
        "id": "GtT_OVs35JbF"
      }
    },
    {
      "cell_type": "markdown",
      "source": [
        "1. There are 2 sisters, Annie and Jane, born in 1996 and 1999 respectively. They want to know who was born in a leap year. Write an if-else statement to determine who was born in a leap year."
      ],
      "metadata": {
        "id": "wDCgGK9dAmRX"
      }
    },
    {
      "cell_type": "code",
      "source": [
        "Annie=1996\n",
        "Jane=1999\n",
        "if Annie%4==0:\n",
        "    print(\"Annie was born in a leap year\")\n",
        "elif Jane%4==0:\n",
        "    print(\"Jane was born in a leap year\")\n",
        "else:\n",
        "    print(\"None of them were born in a leap year\")"
      ],
      "metadata": {
        "colab": {
          "base_uri": "https://localhost:8080/"
        },
        "id": "g-iBTZatAqjQ",
        "outputId": "86112d5d-7a8b-492e-fd8b-5f311225cc5e"
      },
      "execution_count": 4,
      "outputs": [
        {
          "output_type": "stream",
          "name": "stdout",
          "text": [
            "Annie was born in a leap year\n"
          ]
        }
      ]
    },
    {
      "cell_type": "markdown",
      "source": [
        "2. In a school canteen, children under the age of 9 are only given milk porridge for breakfast. Children from 10 to 14 are given a sandwich, and children from 15 to 17 are given a burger. The canteen master asks the age of the student and gives them breakfast accordingly. Sam's age is 10. Use if-else statement to determine what the canteen master will offer to him."
      ],
      "metadata": {
        "id": "xg8lMcYEEGjX"
      }
    },
    {
      "cell_type": "code",
      "source": [
        "age = 10\n",
        "if age <=9:\n",
        "    print (\"You will get milk porridge!\")\n",
        "elif age>=10 and age<=14:\n",
        "    print (\"You will get a sandwich!\")\n",
        "elif age>=15 and age<=17:\n",
        "    print(\"You will get a burger!\")"
      ],
      "metadata": {
        "colab": {
          "base_uri": "https://localhost:8080/"
        },
        "id": "UYxbsfm_EWWB",
        "outputId": "11acf15f-220e-4f3e-c8f1-ea923aae4841"
      },
      "execution_count": 6,
      "outputs": [
        {
          "output_type": "stream",
          "name": "stdout",
          "text": [
            "You will get a sandwich!\n"
          ]
        }
      ]
    },
    {
      "cell_type": "markdown",
      "source": [
        "Write a for loop the prints out all the element between -5 and 5 using the range function"
      ],
      "metadata": {
        "id": "fgbYJ7lmGX7H"
      }
    },
    {
      "cell_type": "code",
      "source": [
        "for i in range(-5, 5):\n",
        "    print(i)"
      ],
      "metadata": {
        "colab": {
          "base_uri": "https://localhost:8080/"
        },
        "id": "NmzMYeoBGdaB",
        "outputId": "46604f6a-26de-4df2-becf-600adb640e86"
      },
      "execution_count": 9,
      "outputs": [
        {
          "output_type": "stream",
          "name": "stdout",
          "text": [
            "-5\n",
            "-4\n",
            "-3\n",
            "-2\n",
            "-1\n",
            "0\n",
            "1\n",
            "2\n",
            "3\n",
            "4\n"
          ]
        }
      ]
    },
    {
      "cell_type": "markdown",
      "source": [
        "Print the elements of the following list: Genres=[ 'rock', 'R&B', 'Soundtrack', 'R&B', 'soul', 'pop'] Make sure you follow Python conventions."
      ],
      "metadata": {
        "id": "v_a3IfqNHKHU"
      }
    },
    {
      "cell_type": "code",
      "source": [
        "Genres = ['rock', 'R&B', 'Soundtrack', 'R&B', 'soul', 'pop']\n",
        "for words in Genres:\n",
        "    print(words)"
      ],
      "metadata": {
        "colab": {
          "base_uri": "https://localhost:8080/"
        },
        "id": "F4ha61lSHL7L",
        "outputId": "4495fa76-3bf1-4cf7-f8f5-dc8d896d7081"
      },
      "execution_count": 11,
      "outputs": [
        {
          "output_type": "stream",
          "name": "stdout",
          "text": [
            "rock\n",
            "R&B\n",
            "Soundtrack\n",
            "R&B\n",
            "soul\n",
            "pop\n"
          ]
        }
      ]
    },
    {
      "cell_type": "markdown",
      "source": [
        "Write a for loop that prints out the following list: squares=['red', 'yellow', 'green', 'purple', 'blue']"
      ],
      "metadata": {
        "id": "GJabemN1IMDb"
      }
    },
    {
      "cell_type": "code",
      "source": [
        "squares = ['red', 'yellow', 'green', 'purple', 'blue']\n",
        "for colors in squares:\n",
        "  print(colors)\n",
        "\n"
      ],
      "metadata": {
        "colab": {
          "base_uri": "https://localhost:8080/"
        },
        "id": "2y6z_q_UIM0P",
        "outputId": "76f9adca-8140-42ab-a311-809409a0f30c"
      },
      "execution_count": 12,
      "outputs": [
        {
          "output_type": "stream",
          "name": "stdout",
          "text": [
            "red\n",
            "yellow\n",
            "green\n",
            "purple\n",
            "blue\n"
          ]
        }
      ]
    },
    {
      "cell_type": "markdown",
      "source": [
        "Your little brother has just learned multiplication tables in school. Today he has learned tables of 6 and 7. Help him memorise both the tables by printing them using for loop."
      ],
      "metadata": {
        "id": "CIhiUZupIiAP"
      }
    },
    {
      "cell_type": "code",
      "source": [
        "print(\"Multiplication table of 6:\")\n",
        "for i in range (1, 11):\n",
        "    print(\"6*\",i,\"=\",6*i)\n",
        "print(\"Multiplication table of 7:\")\n",
        "for i in range (1, 11):\n",
        "    print(\"7*\",i,\"=\",7*i)"
      ],
      "metadata": {
        "colab": {
          "base_uri": "https://localhost:8080/"
        },
        "id": "nqTK9lO_KUvP",
        "outputId": "a1234e7a-a00c-4a63-8bca-f88edea23c98"
      },
      "execution_count": 13,
      "outputs": [
        {
          "output_type": "stream",
          "name": "stdout",
          "text": [
            "Multiplication table of 6:\n",
            "6* 1 = 6\n",
            "6* 2 = 12\n",
            "6* 3 = 18\n",
            "6* 4 = 24\n",
            "6* 5 = 30\n",
            "6* 6 = 36\n",
            "6* 7 = 42\n",
            "6* 8 = 48\n",
            "6* 9 = 54\n",
            "6* 10 = 60\n",
            "Multiplication table of 7:\n",
            "7* 1 = 7\n",
            "7* 2 = 14\n",
            "7* 3 = 21\n",
            "7* 4 = 28\n",
            "7* 5 = 35\n",
            "7* 6 = 42\n",
            "7* 7 = 49\n",
            "7* 8 = 56\n",
            "7* 9 = 63\n",
            "7* 10 = 70\n"
          ]
        }
      ]
    }
  ]
}