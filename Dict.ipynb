{
  "nbformat": 4,
  "nbformat_minor": 0,
  "metadata": {
    "colab": {
      "provenance": [],
      "authorship_tag": "ABX9TyNS9BVm3MHkTCo4qhxldvdB",
      "include_colab_link": true
    },
    "kernelspec": {
      "name": "python3",
      "display_name": "Python 3"
    },
    "language_info": {
      "name": "python"
    }
  },
  "cells": [
    {
      "cell_type": "markdown",
      "metadata": {
        "id": "view-in-github",
        "colab_type": "text"
      },
      "source": [
        "<a href=\"https://colab.research.google.com/github/amanpre/demo-repo/blob/main/Dict.ipynb\" target=\"_parent\"><img src=\"https://colab.research.google.com/assets/colab-badge.svg\" alt=\"Open In Colab\"/></a>"
      ]
    },
    {
      "cell_type": "code",
      "execution_count": null,
      "metadata": {
        "id": "fYxpDBcJXl6z"
      },
      "outputs": [],
      "source": [
        "def number_frequency(numbers):\n",
        "  frequency ={}\n",
        "  for number in numbers:\n",
        "    if number in frequency:\n",
        "      frequency[number] += 1\n",
        "    else:\n",
        "      frequency[number] = 1\n",
        "  return frequency\n",
        "\n"
      ]
    },
    {
      "cell_type": "code",
      "source": [
        "numbers = [10,40,50,14,40,10]\n",
        "result = number_frequency(numbers)\n",
        "print(result)\n"
      ],
      "metadata": {
        "colab": {
          "base_uri": "https://localhost:8080/"
        },
        "id": "H6kVkINTY0KG",
        "outputId": "93d78ddd-b701-460c-c64e-119bda15e764"
      },
      "execution_count": null,
      "outputs": [
        {
          "output_type": "stream",
          "name": "stdout",
          "text": [
            "{10: 2, 40: 2, 50: 1, 14: 1}\n"
          ]
        }
      ]
    }
  ]
}