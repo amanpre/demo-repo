{
  "nbformat": 4,
  "nbformat_minor": 0,
  "metadata": {
    "colab": {
      "provenance": [],
      "authorship_tag": "ABX9TyMP/7nT4ClB56f+nzsSnMYi",
      "include_colab_link": true
    },
    "kernelspec": {
      "name": "python3",
      "display_name": "Python 3"
    },
    "language_info": {
      "name": "python"
    }
  },
  "cells": [
    {
      "cell_type": "markdown",
      "metadata": {
        "id": "view-in-github",
        "colab_type": "text"
      },
      "source": [
        "<a href=\"https://colab.research.google.com/github/amanpre/demo-repo/blob/main/class.ipynb\" target=\"_parent\"><img src=\"https://colab.research.google.com/assets/colab-badge.svg\" alt=\"Open In Colab\"/></a>"
      ]
    },
    {
      "cell_type": "code",
      "execution_count": 2,
      "metadata": {
        "colab": {
          "base_uri": "https://localhost:8080/"
        },
        "id": "E8jYj-Y-jReG",
        "outputId": "72e11cac-570c-4317-fd33-fbf15dd3d7e8"
      },
      "outputs": [
        {
          "output_type": "stream",
          "name": "stdout",
          "text": [
            "Buddy is a Dog and is 3 years old. Happiness level: 50\n",
            "Whiskers is a Cat and is 2 years old. Happiness level: 50\n",
            "Buddy has been fed! Happiness level: 60\n",
            "Whiskers is playing! Happiness level: 70\n",
            "Buddy is sleeping. Happiness level: 65\n",
            "Buddy is a Dog and is 3 years old. Happiness level: 65\n",
            "Whiskers is a Cat and is 2 years old. Happiness level: 70\n"
          ]
        }
      ],
      "source": [
        "# Define the Pet class\n",
        "class Pet:\n",
        "    def __init__(self, name, species, age, happiness=50):\n",
        "        self.name = name\n",
        "        self.species = species\n",
        "        self.age = age\n",
        "        self.happiness = happiness\n",
        "\n",
        "    # Method to feed the pet\n",
        "    def feed(self):\n",
        "        self.happiness += 10\n",
        "        print(f\"{self.name} has been fed! Happiness level: {self.happiness}\")\n",
        "\n",
        "    # Method to play with the pet\n",
        "    def play(self):\n",
        "        self.happiness += 20\n",
        "        print(f\"{self.name} is playing! Happiness level: {self.happiness}\")\n",
        "\n",
        "    # Method to put the pet to sleep\n",
        "    def sleep(self):\n",
        "        self.happiness += 5\n",
        "        print(f\"{self.name} is sleeping. Happiness level: {self.happiness}\")\n",
        "    # Method to describe the pet\n",
        "    def describe(self):\n",
        "        print(f\"{self.name} is a {self.species} and is {self.age} years old. Happiness level: {self.happiness}\")\n",
        "\n",
        "\n",
        "# Create Pet objects\n",
        "pet1 = Pet(name=\"Buddy\", species=\"Dog\", age=3)\n",
        "pet2 = Pet(name=\"Whiskers\", species=\"Cat\", age=2)\n",
        "\n",
        "# Interact with the pets\n",
        "pet1.describe()\n",
        "pet2.describe()\n",
        "\n",
        "# Interactions with the pets\n",
        "pet1.feed()        # Feed Buddy\n",
        "pet2.play()        # Play with Whiskers\n",
        "pet1.sleep()       # Put Buddy to sleep\n",
        "\n",
        "# Describe pets again after interactions\n",
        "pet1.describe()\n",
        "pet2.describe()"
      ]
    }
  ]
}